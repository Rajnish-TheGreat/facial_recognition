from keras.models import load_model

classifier = load_model('facer.h5')
